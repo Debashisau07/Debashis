{
 "cells": [
  {
   "cell_type": "code",
   "execution_count": 2,
   "id": "4853630e",
   "metadata": {},
   "outputs": [
    {
     "name": "stdout",
     "output_type": "stream",
     "text": [
      "in a quick manner\n"
     ]
    }
   ],
   "source": [
    "#Dictionary in Python\n",
    "myDict={\n",
    "    \"fast\":\"in a quick manner\",\n",
    "    \"Deb\":\"a coder\"\n",
    "}\n",
    "print(myDict[\"fast\"])"
   ]
  },
  {
   "cell_type": "code",
   "execution_count": 3,
   "id": "04501e81",
   "metadata": {},
   "outputs": [
    {
     "name": "stdout",
     "output_type": "stream",
     "text": [
      "[1, 4, 5]\n"
     ]
    }
   ],
   "source": [
    "a={\n",
    "    \"key\":\"value\",\n",
    "    \"deb\":\"code\",\n",
    "    \"marks\":\"100\",\n",
    "    \"list\":[1,4,5]\n",
    "}\n",
    "print(a[\"list\"])"
   ]
  },
  {
   "cell_type": "code",
   "execution_count": 6,
   "id": "47cb27f6",
   "metadata": {},
   "outputs": [
    {
     "name": "stdout",
     "output_type": "stream",
     "text": [
      "{'fruit': 'mango', 'animal': 'tanay'}\n"
     ]
    }
   ],
   "source": [
    "#nested dictionary\n",
    "a={\n",
    "    \"deb\":\"jaan\",\n",
    "    \"papa\":\"father\",\n",
    "    \"mom\":\"mother\",\n",
    "    \"other\":{\n",
    "        \"fruit\":\"mango\",\n",
    "        \"animal\":\"tanay\"\n",
    "    }\n",
    "}\n",
    "print(a[\"other\"])"
   ]
  },
  {
   "cell_type": "code",
   "execution_count": 12,
   "id": "70335ba4",
   "metadata": {},
   "outputs": [
    {
     "name": "stdout",
     "output_type": "stream",
     "text": [
      "dict_items([('deb', 'jaan'), ('papa', 'father'), ('mom', 'mother'), ('other', {'fruit': 'mango', 'animal': 'tanay'})])\n",
      "dict_keys(['deb', 'papa', 'mom', 'other'])\n",
      "dict_values(['jaan', 'father', 'mother', {'fruit': 'mango', 'animal': 'tanay'}])\n",
      "{'deb': 'jaan', 'papa': 'father', 'mom': 'mother', 'other': {'fruit': 'mango', 'animal': 'tanay'}}\n",
      "{'deb': 'jaan', 'papa': 'father', 'mom': 'mother', 'other': {'fruit': 'mango', 'animal': 'tanay'}, 'color': 'red', 'friend': 'soumya'}\n"
     ]
    }
   ],
   "source": [
    "a={\n",
    "    \"deb\":\"jaan\",\n",
    "    \"papa\":\"father\",\n",
    "    \"mom\":\"mother\",\n",
    "    \"other\":{\n",
    "        \"fruit\":\"mango\",\n",
    "        \"animal\":\"tanay\"\n",
    "    }\n",
    "}\n",
    "print(a.items())\n",
    "print(a.keys())\n",
    "print(a.values())\n",
    "print(a)\n",
    "updatea={\n",
    "    \"color\":\"red\",\n",
    "    \"friend\":\"soumya\"\n",
    "}\n",
    "a.update(updatea)#adding new key-values pair\n",
    "print(a)\n"
   ]
  },
  {
   "cell_type": "code",
   "execution_count": 13,
   "id": "97e42495",
   "metadata": {},
   "outputs": [
    {
     "name": "stdout",
     "output_type": "stream",
     "text": [
      "{'deb': 'debashis', 'papa': 'father', 'mom': 'mother', 'other': {'fruit': 'mango', 'animal': 'tanay'}, 'color': 'blue'}\n"
     ]
    }
   ],
   "source": [
    "a={\n",
    "    \"deb\":\"jaan\",\n",
    "    \"papa\":\"father\",\n",
    "    \"mom\":\"mother\",\n",
    "    \"other\":{\n",
    "        \"fruit\":\"mango\",\n",
    "        \"animal\":\"tanay\"\n",
    "    }\n",
    "}\n",
    "a.update({\n",
    "    \"color\":\"blue\",\n",
    "    \"deb\":\"debashis\"\n",
    "})\n",
    "print(a)"
   ]
  },
  {
   "cell_type": "code",
   "execution_count": 14,
   "id": "7440bbf5",
   "metadata": {},
   "outputs": [
    {
     "name": "stdout",
     "output_type": "stream",
     "text": [
      "jaan\n",
      "jaan\n",
      "None\n"
     ]
    },
    {
     "ename": "KeyError",
     "evalue": "'enjoy'",
     "output_type": "error",
     "traceback": [
      "\u001b[1;31m---------------------------------------------------------------------------\u001b[0m",
      "\u001b[1;31mKeyError\u001b[0m                                  Traceback (most recent call last)",
      "Input \u001b[1;32mIn [14]\u001b[0m, in \u001b[0;36m<cell line: 14>\u001b[1;34m()\u001b[0m\n\u001b[0;32m     12\u001b[0m \u001b[38;5;66;03m#DIFFERENCE BETween .get and []syntex in dictionaries\u001b[39;00m\n\u001b[0;32m     13\u001b[0m \u001b[38;5;28mprint\u001b[39m(a\u001b[38;5;241m.\u001b[39mget(\u001b[38;5;124m\"\u001b[39m\u001b[38;5;124menjoy\u001b[39m\u001b[38;5;124m\"\u001b[39m))\u001b[38;5;66;03m#returns None as enjoy is not present in Dictionaries\u001b[39;00m\n\u001b[1;32m---> 14\u001b[0m \u001b[38;5;28mprint\u001b[39m(\u001b[43ma\u001b[49m\u001b[43m[\u001b[49m\u001b[38;5;124;43m\"\u001b[39;49m\u001b[38;5;124;43menjoy\u001b[39;49m\u001b[38;5;124;43m\"\u001b[39;49m\u001b[43m]\u001b[49m)\n",
      "\u001b[1;31mKeyError\u001b[0m: 'enjoy'"
     ]
    }
   ],
   "source": [
    "a={\n",
    "    \"deb\":\"jaan\",\n",
    "    \"papa\":\"father\",\n",
    "    \"mom\":\"mother\",\n",
    "    \"other\":{\n",
    "        \"fruit\":\"mango\",\n",
    "        \"animal\":\"tanay\"\n",
    "    }\n",
    "}\n",
    "print(a.get(\"deb\"))#print value associasted with kry \"deb\"\n",
    "print(a[\"deb\"])#print value assotiated with key \"deb\"\n",
    "#DIFFERENCE BETween .get and []syntex in dictionaries\n",
    "print(a.get(\"enjoy\"))#returns None as enjoy is not present in Dictionaries\n",
    "print(a[\"enjoy\"])#returns error"
   ]
  },
  {
   "cell_type": "code",
   "execution_count": 15,
   "id": "172d4426",
   "metadata": {},
   "outputs": [
    {
     "name": "stdout",
     "output_type": "stream",
     "text": [
      "<class 'set'>\n",
      "{1, 3, 5, 6}\n"
     ]
    }
   ],
   "source": [
    "#Sets \n",
    "a={1,3,5,6,1}#dont print repetative item\n",
    "print(type(a))\n",
    "print(a)"
   ]
  },
  {
   "cell_type": "code",
   "execution_count": 22,
   "id": "2970dfad",
   "metadata": {},
   "outputs": [
    {
     "name": "stdout",
     "output_type": "stream",
     "text": [
      "<class 'dict'>\n",
      "<class 'set'>\n",
      "{(4, 5, 6), 5, 6}\n",
      "3\n",
      "{(4, 5, 6), 5}\n"
     ]
    }
   ],
   "source": [
    "#to creat a empty dictionary\n",
    "a={}\n",
    "print(type(a))\n",
    "#to creat empty set\n",
    "b=set()\n",
    "print(type(b))\n",
    "#adding value in empty set\n",
    "b.add(5)\n",
    "b.add(6)\n",
    "#b.add([1,3,5])you cannot add List and Dictionary in set\n",
    "b.add((4,5,6))#you can add tuples in set\n",
    "print(b)\n",
    "print(len(b))\n",
    "b.remove(6)\n",
    "print(b)"
   ]
  },
  {
   "cell_type": "code",
   "execution_count": 1,
   "id": "9e64a703",
   "metadata": {},
   "outputs": [
    {
     "name": "stdout",
     "output_type": "stream",
     "text": [
      "enter the hindi word\n",
      "mitti\n",
      "The meaning of your word is: sand\n"
     ]
    }
   ],
   "source": [
    "#practice of dictionary and set\n",
    "a={\n",
    "    \"pankha\":\"fan\",\n",
    "    \"dabba\":\"box\",\n",
    "    \"mitti\":\"sand\"\n",
    "}\n",
    "b=input(\"enter the hindi word\\n\")\n",
    "print(\"The meaning of your word is:\",a[b])\n"
   ]
  },
  {
   "cell_type": "code",
   "execution_count": 2,
   "id": "0b025740",
   "metadata": {},
   "outputs": [
    {
     "name": "stdout",
     "output_type": "stream",
     "text": [
      "enter a number:1\n",
      "enter a number:2\n",
      "enter a number:3\n",
      "enter a number:5\n",
      "enter a number:6\n",
      "enter a number:8\n",
      "enter a number:9\n",
      "enter a number:4\n",
      "{1, 2, 3, 4, 5, 6, 8, 9}\n"
     ]
    }
   ],
   "source": [
    "#practice 2\n",
    "num1=int(input(\"enter a number:\"))\n",
    "num2=int(input(\"enter a number:\"))\n",
    "num3=int(input(\"enter a number:\"))\n",
    "num4=int(input(\"enter a number:\"))\n",
    "num5=int(input(\"enter a number:\"))\n",
    "num6=int(input(\"enter a number:\"))\n",
    "num7=int(input(\"enter a number:\"))\n",
    "num8=int(input(\"enter a number:\"))\n",
    "s={num1,num2,num3,num4,num5,num6,num7,num8}\n",
    "print(s)"
   ]
  },
  {
   "cell_type": "code",
   "execution_count": 3,
   "id": "c3200173",
   "metadata": {},
   "outputs": [
    {
     "name": "stdout",
     "output_type": "stream",
     "text": [
      "{18, '18'}\n"
     ]
    }
   ],
   "source": [
    "s={18,\"18\"}\n",
    "print(s)"
   ]
  },
  {
   "cell_type": "code",
   "execution_count": 4,
   "id": "fa04b075",
   "metadata": {},
   "outputs": [
    {
     "name": "stdout",
     "output_type": "stream",
     "text": [
      "{20, '20'}\n",
      "2\n"
     ]
    }
   ],
   "source": [
    "s=set()\n",
    "s.add(20)\n",
    "s.add(20.0)\n",
    "s.add(\"20\")\n",
    "print(s)\n",
    "print(len(s))#len is 2 because 20 and 20.0 is same\n"
   ]
  },
  {
   "cell_type": "code",
   "execution_count": 5,
   "id": "43450227",
   "metadata": {},
   "outputs": [
    {
     "name": "stdout",
     "output_type": "stream",
     "text": [
      "enter your favourite language Sudip\n",
      "python\n",
      "enter your favourite language monalisha\n",
      "java\n",
      "enter your favourite language monali\n",
      "c\n",
      "enter your favourite language monalisha\n",
      "c++\n",
      "{'sudip': 'python', 'monalisha': 'c++', 'monali': 'c'}\n"
     ]
    }
   ],
   "source": [
    "fav={}\n",
    "a=input(\"enter your favourite language Sudip\\n\")\n",
    "b=input(\"enter your favourite language monalisha\\n\")\n",
    "c=input(\"enter your favourite language monali\\n\")\n",
    "d=input(\"enter your favourite language monalisha\\n\")\n",
    "fav[\"sudip\"]=a\n",
    "fav[\"monalisha\"]=b\n",
    "fav[\"monali\"]=c\n",
    "fav[\"monalisha\"]=d\n",
    "print(fav)"
   ]
  },
  {
   "cell_type": "code",
   "execution_count": null,
   "id": "b2550950",
   "metadata": {},
   "outputs": [],
   "source": []
  }
 ],
 "metadata": {
  "kernelspec": {
   "display_name": "Python 3 (ipykernel)",
   "language": "python",
   "name": "python3"
  },
  "language_info": {
   "codemirror_mode": {
    "name": "ipython",
    "version": 3
   },
   "file_extension": ".py",
   "mimetype": "text/x-python",
   "name": "python",
   "nbconvert_exporter": "python",
   "pygments_lexer": "ipython3",
   "version": "3.10.6"
  }
 },
 "nbformat": 4,
 "nbformat_minor": 5
}
