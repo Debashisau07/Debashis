{
 "cells": [
  {
   "cell_type": "code",
   "execution_count": 1,
   "id": "443f1fe0",
   "metadata": {},
   "outputs": [
    {
     "name": "stdout",
     "output_type": "stream",
     "text": [
      "Hello dear students\n",
      "Starting of first function\n",
      "Only simple function\n",
      "I am in function\n",
      "No return No argument\n",
      "Only simple function\n",
      "I am in function\n",
      "No return No argument\n",
      "Only simple function\n",
      "BYE BYE\n",
      "I am in function\n",
      "No return No argument\n",
      "Only simple function\n",
      "BYE BYE\n"
     ]
    }
   ],
   "source": [
    "print(\"Hello dear students\")\n",
    "print(\"Starting of first function\")\n",
    "def display():\n",
    "    print(\"I am in function\")\n",
    "    #no argument and no return\n",
    "    print(\"No return No argument\")\n",
    "    print(\"Only simple function\")\n",
    "print(\"Only simple function\")\n",
    "display()\n",
    "display()\n",
    "print(\"BYE BYE\")\n",
    "display()\n",
    "print(\"BYE BYE\")"
   ]
  },
  {
   "cell_type": "code",
   "execution_count": 2,
   "id": "162edeee",
   "metadata": {},
   "outputs": [
    {
     "name": "stdout",
     "output_type": "stream",
     "text": [
      "hello guys\n",
      "good morning to all\n",
      "Hello all my friends\n",
      "My name is Debashis Sau\n",
      "My fathers name is Biswanath Sau\n",
      "My section is K22FR\n",
      "My branch is Btech CSE\n"
     ]
    }
   ],
   "source": [
    "print(\"hello guys\")\n",
    "print(\"good morning to all\")\n",
    "def display():\n",
    "    print(\"My name is Debashis Sau\")\n",
    "    print(\"My fathers name is Biswanath Sau\")\n",
    "    print(\"My section is K22FR\")\n",
    "    print(\"My branch is Btech CSE\")\n",
    "print(\"Hello all my friends\")\n",
    "display()"
   ]
  },
  {
   "cell_type": "code",
   "execution_count": 4,
   "id": "4ef64d5d",
   "metadata": {},
   "outputs": [
    {
     "name": "stdout",
     "output_type": "stream",
     "text": [
      "Hello first of programme\n",
      "after defination of function\n",
      "sum of two no= 15\n",
      "enter a number65\n",
      "enter second number75\n",
      "sum of two no= 140\n",
      "BYE BYE\n",
      "sum of two no= 300\n"
     ]
    }
   ],
   "source": [
    "#this is YES argument and NO return\n",
    "print(\"Hello first of programme\")\n",
    "def sum(x,y):\n",
    "    z=x+y\n",
    "    print(\"sum of two no=\",z)\n",
    "print(\"after defination of function\")\n",
    "a=7\n",
    "b=8\n",
    "sum(a,b)\n",
    "m=int(input(\"enter a number\"))\n",
    "n=int(input(\"enter second number\"))\n",
    "sum(m,n)\n",
    "print(\"BYE BYE\")\n",
    "sum(100,200)\n",
    "    "
   ]
  },
  {
   "cell_type": "code",
   "execution_count": 5,
   "id": "ab6fc7aa",
   "metadata": {},
   "outputs": [
    {
     "name": "stdout",
     "output_type": "stream",
     "text": [
      "20 is smaller than 40\n"
     ]
    }
   ],
   "source": [
    "def FindMin(num1,num2):\n",
    "    if num1<num2:\n",
    "        print(num1,'is smaller than',num2)\n",
    "    elif num2<num1:\n",
    "        print(num2,'is smaller than',num1)\n",
    "    else:\n",
    "        print('both are equal')\n",
    "FindMin(20,40)        "
   ]
  },
  {
   "cell_type": "code",
   "execution_count": 6,
   "id": "288994ea",
   "metadata": {},
   "outputs": [
    {
     "name": "stdout",
     "output_type": "stream",
     "text": [
      "enter a no5\n",
      "enter a second no4\n",
      "sum of two no= 9\n"
     ]
    }
   ],
   "source": [
    "def sum(x,y):\n",
    "    z=x+y\n",
    "    return z;\n",
    "a=int(input(\"enter a no\"))\n",
    "b=int(input(\"enter a second no\"))\n",
    "c=sum(a,b)\n",
    "print(\"sum of two no=\",c)\n"
   ]
  },
  {
   "cell_type": "code",
   "execution_count": null,
   "id": "7584675c",
   "metadata": {},
   "outputs": [],
   "source": []
  }
 ],
 "metadata": {
  "kernelspec": {
   "display_name": "Python 3 (ipykernel)",
   "language": "python",
   "name": "python3"
  },
  "language_info": {
   "codemirror_mode": {
    "name": "ipython",
    "version": 3
   },
   "file_extension": ".py",
   "mimetype": "text/x-python",
   "name": "python",
   "nbconvert_exporter": "python",
   "pygments_lexer": "ipython3",
   "version": "3.10.6"
  }
 },
 "nbformat": 4,
 "nbformat_minor": 5
}
