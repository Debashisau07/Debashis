{
 "cells": [
  {
   "cell_type": "code",
   "execution_count": 3,
   "id": "0deeb88b",
   "metadata": {},
   "outputs": [
    {
     "name": "stdout",
     "output_type": "stream",
     "text": [
      "Enter a number =0\n",
      "Enter second number =45\n",
      "0.0\n"
     ]
    }
   ],
   "source": [
    "try:\n",
    "    a=int(input(\"Enter a number =\"))\n",
    "    b=int(input(\"Enter second number =\"))\n",
    "    print(a/b)\n",
    "except ZeroDivisionError:\n",
    "    print(\"You are not allow to divide by 0\")"
   ]
  },
  {
   "cell_type": "code",
   "execution_count": 3,
   "id": "6096c0fb",
   "metadata": {},
   "outputs": [
    {
     "name": "stdout",
     "output_type": "stream",
     "text": [
      "Enter a number =0\n",
      "Enter second number =65\n",
      "0.0\n",
      "Out of try except blocks\n"
     ]
    }
   ],
   "source": [
    "try:\n",
    "    a=int(input(\"Enter a number =\"))\n",
    "    b=int(input(\"Enter second number =\"))\n",
    "    print(a/b)\n",
    "except TypeError:\n",
    "    print(\"unsupported type error\")\n",
    "except ZeroDivisionError:\n",
    "    print(\"You are not allow to divide by 0\")\n",
    "except ValueError:\n",
    "    print(\"value error unsupported operation\")\n",
    "print(\"Out of try except blocks\")"
   ]
  },
  {
   "cell_type": "code",
   "execution_count": 4,
   "id": "b055d22f",
   "metadata": {},
   "outputs": [
    {
     "name": "stdout",
     "output_type": "stream",
     "text": [
      "-6.374999999999997\n",
      "You will find Infinite\n"
     ]
    }
   ],
   "source": [
    "def Deb(a,b):\n",
    "    try:\n",
    "        c=((a+b)/(a-b))\n",
    "    except ZeroDivisionError:\n",
    "        print(\"You will find Infinite\")\n",
    "    else:\n",
    "        print(c)\n",
    "Deb(4.3,5.9)\n",
    "Deb(5,5)"
   ]
  },
  {
   "cell_type": "code",
   "execution_count": 5,
   "id": "3b6044f8",
   "metadata": {},
   "outputs": [
    {
     "name": "stdout",
     "output_type": "stream",
     "text": [
      "the index and content is 0 deb\n",
      "the index and content is 1 ami\n",
      "the index and content is 2 tomake\n",
      "the index and content is 3 bhalobasi\n"
     ]
    }
   ],
   "source": [
    "a=[\"deb\",\"ami\",\"tomake\",\"bhalobasi\"]\n",
    "try:\n",
    "    for i in range(4):\n",
    "        print(\"the index and content is\", i,a[i])\n",
    "except:\n",
    "    print(\"out of range\")"
   ]
  },
  {
   "cell_type": "code",
   "execution_count": 2,
   "id": "bf2c9606",
   "metadata": {},
   "outputs": [
    {
     "name": "stdout",
     "output_type": "stream",
     "text": [
      "enter two number,seperated by comma : 76,56\n",
      "Result is 1.3571428571428572\n",
      "no exception\n",
      "Debashis Sau\n"
     ]
    }
   ],
   "source": [
    "try:\n",
    "    num1,num2=eval(input(\"enter two number,seperated by comma : \"))\n",
    "    result=num1/num2\n",
    "    print(\"Result is\",result)\n",
    "except ZeroDivisionError:\n",
    "    print(\"Division by error is invalid\")\n",
    "except SyntexError:\n",
    "    print(\"comma is missing,Enter number seperated by comma\")\n",
    "except:\n",
    "    print(\"wrong input\")\n",
    "else:\n",
    "    print(\"no exception\")\n",
    "finally:\n",
    "    print(\"Debashis Sau\")"
   ]
  },
  {
   "cell_type": "code",
   "execution_count": 6,
   "id": "13b02c51",
   "metadata": {},
   "outputs": [
    {
     "name": "stdout",
     "output_type": "stream",
     "text": [
      "enter your age:-54\n",
      "dev\n"
     ]
    }
   ],
   "source": [
    "def enterage(age):\n",
    "    if age<0:\n",
    "        raise ValueError(\"only positive integer allow\")\n",
    "    if age%2==0:\n",
    "        print(\"age is even\")\n",
    "    else:\n",
    "        print(\"age is odd\")\n",
    "try:\n",
    "    n=int(input(\"enter your age:\"))\n",
    "    enterage(n)\n",
    "#except ValueError:\n",
    "   # print(\"only positive integer\")\n",
    "except:\n",
    "    print(\"dev\")"
   ]
  },
  {
   "cell_type": "code",
   "execution_count": null,
   "id": "0decb670",
   "metadata": {},
   "outputs": [],
   "source": []
  },
  {
   "cell_type": "code",
   "execution_count": 11,
   "id": "87e51e5c",
   "metadata": {},
   "outputs": [
    {
     "name": "stdout",
     "output_type": "stream",
     "text": [
      "file not find\n",
      "bye bye\n"
     ]
    }
   ],
   "source": [
    "try:\n",
    "    fo=open(\"baba.txt\",\"r\")\n",
    "    print(\"file opened\")\n",
    "except FileNotFoundError:\n",
    "    print(\"file not find\")\n",
    "except:\n",
    "    print(\"other error\")\n",
    "print(\"bye bye\")"
   ]
  },
  {
   "cell_type": "code",
   "execution_count": null,
   "id": "99bb7aee",
   "metadata": {},
   "outputs": [],
   "source": []
  },
  {
   "cell_type": "code",
   "execution_count": null,
   "id": "7b581e06",
   "metadata": {},
   "outputs": [],
   "source": []
  }
 ],
 "metadata": {
  "kernelspec": {
   "display_name": "Python 3 (ipykernel)",
   "language": "python",
   "name": "python3"
  },
  "language_info": {
   "codemirror_mode": {
    "name": "ipython",
    "version": 3
   },
   "file_extension": ".py",
   "mimetype": "text/x-python",
   "name": "python",
   "nbconvert_exporter": "python",
   "pygments_lexer": "ipython3",
   "version": "3.10.6"
  }
 },
 "nbformat": 4,
 "nbformat_minor": 5
}
