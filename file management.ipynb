{
 "cells": [
  {
   "cell_type": "code",
   "execution_count": 1,
   "id": "c0a7c06d",
   "metadata": {},
   "outputs": [
    {
     "name": "stdout",
     "output_type": "stream",
     "text": [
      "mother:sipra sau\n"
     ]
    }
   ],
   "source": [
    "file=open(\"textfile.txt\",\"w\")\n",
    "file.write(\"Debashis\\n\")\n",
    "file.write(\"782ybjw54\\n\")\n",
    "file.write(\"jhsghgvvba\\n\")\n",
    "print(\"mother:sipra sau\")\n",
    "file.close()"
   ]
  },
  {
   "cell_type": "code",
   "execution_count": 2,
   "id": "b042a1d4",
   "metadata": {},
   "outputs": [
    {
     "name": "stdout",
     "output_type": "stream",
     "text": [
      "Welcome\n",
      "Creating a new file\n",
      "My name is :Debashis Sau\n",
      "The name of my father name is :Biswanath Sau\n",
      "My registration number is :12201557\n",
      "My batch is :K22FR\n"
     ]
    }
   ],
   "source": [
    "print(\"Welcome\")\n",
    "print(\"Creating a new file\")\n",
    "a=open(\"papa.txt\",\"w\")\n",
    "a.write(\"My name is :Debashis Sau\\n\")\n",
    "a.write(\"The name of my father name is :Biswanath Sau\\n\")\n",
    "a.write(\"My registration number is :12201557\\n\")\n",
    "a.write(\"My batch is :K22FR\")\n",
    "a.close()\n",
    "a=open(\"papa.txt\",\"r\")\n",
    "b=a.read()\n",
    "print(b)\n",
    "a.close()\n",
    "a=open(\"papa.txt\",\"a\")\n",
    "a.write(\"The name of my mother is:Sipra Sau\\n\")\n",
    "a.close()"
   ]
  },
  {
   "cell_type": "code",
   "execution_count": null,
   "id": "fddc48c3",
   "metadata": {},
   "outputs": [],
   "source": []
  },
  {
   "cell_type": "code",
   "execution_count": null,
   "id": "da2598ef",
   "metadata": {},
   "outputs": [],
   "source": []
  }
 ],
 "metadata": {
  "kernelspec": {
   "display_name": "Python 3 (ipykernel)",
   "language": "python",
   "name": "python3"
  },
  "language_info": {
   "codemirror_mode": {
    "name": "ipython",
    "version": 3
   },
   "file_extension": ".py",
   "mimetype": "text/x-python",
   "name": "python",
   "nbconvert_exporter": "python",
   "pygments_lexer": "ipython3",
   "version": "3.10.6"
  }
 },
 "nbformat": 4,
 "nbformat_minor": 5
}
