{
 "cells": [
  {
   "cell_type": "code",
   "execution_count": 1,
   "id": "9b69e156",
   "metadata": {},
   "outputs": [
    {
     "name": "stdout",
     "output_type": "stream",
     "text": [
      "Enter a Nth Number: 23\n",
      "23 th Prime Pallindrome Number is  10601\n"
     ]
    }
   ],
   "source": [
    "\n",
    "number=int(input(\"Enter a Nth Number: \"))\n",
    "c = 0\n",
    "letest = 0\n",
    "num = 1\n",
    "while c != number:\n",
    "    num2=0\n",
    "    num1 = num\n",
    "    sd=0\n",
    "    for i in range(1,num+1):\n",
    "       if num%i==0:\n",
    "          sd+=1\n",
    "    if sd==2:\n",
    "      while num1 != 0:\n",
    "         rem = num1 % 10\n",
    "         num1 //= 10\n",
    "         num2 = num2 * 10 + rem\n",
    "    if num==num2:\n",
    "        c+=1\n",
    "        letest = num\n",
    "\n",
    "    num = num + 1\n",
    "print(number,\"th Prime Pallindrome Number is \",letest)\n"
   ]
  },
  {
   "cell_type": "code",
   "execution_count": null,
   "id": "d1aeb9f6",
   "metadata": {},
   "outputs": [],
   "source": []
  },
  {
   "cell_type": "code",
   "execution_count": null,
   "id": "94d9430f",
   "metadata": {},
   "outputs": [],
   "source": [
    "number=int(input(\"Enter a Nth Number: \"))\n",
    "c = 0\n",
    "letest = 0\n",
    "num = 1\n",
    "while c != number:\n",
    "    num2=0\n",
    "    num1 = num\n",
    "    sd=0\n",
    "    for i in range(1,num+1):\n",
    "       if num%i==0:\n",
    "          sd+=1\n",
    "    if sd==2:\n",
    "      while num1 != 0:\n",
    "         rem = num1 % 10\n",
    "         num1 //= 10\n",
    "         num2 = num2 * 10 + rem\n",
    "    if num==num2:\n",
    "        c+=1\n",
    "        letest = num\n",
    "\n",
    "    num = num + 1\n",
    "print(number,\"th Prime Pallindrome Number is \",letest)\n"
   ]
  },
  {
   "cell_type": "code",
   "execution_count": null,
   "id": "91a03667",
   "metadata": {},
   "outputs": [],
   "source": []
  }
 ],
 "metadata": {
  "kernelspec": {
   "display_name": "Python 3 (ipykernel)",
   "language": "python",
   "name": "python3"
  },
  "language_info": {
   "codemirror_mode": {
    "name": "ipython",
    "version": 3
   },
   "file_extension": ".py",
   "mimetype": "text/x-python",
   "name": "python",
   "nbconvert_exporter": "python",
   "pygments_lexer": "ipython3",
   "version": "3.10.6"
  }
 },
 "nbformat": 4,
 "nbformat_minor": 5
}
