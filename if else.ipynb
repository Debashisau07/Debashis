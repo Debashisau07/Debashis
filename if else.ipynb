{
 "cells": [
  {
   "cell_type": "code",
   "execution_count": null,
   "id": "0b79d3ec",
   "metadata": {},
   "outputs": [],
   "source": []
  },
  {
   "cell_type": "code",
   "execution_count": 1,
   "id": "4ee3213a",
   "metadata": {},
   "outputs": [
    {
     "name": "stdout",
     "output_type": "stream",
     "text": [
      "enter number 1:54\n",
      "enter number 2:34\n",
      "enter number 3:76\n",
      "enter number 4:12\n",
      "76is greast\n"
     ]
    }
   ],
   "source": [
    "#take 4 numbers from user and print highest\n",
    "\n",
    "num1=int(input(\"enter number 1:\"))\n",
    "num2=int(input(\"enter number 2:\"))\n",
    "num3=int(input(\"enter number 3:\"))\n",
    "num4=int(input(\"enter number 4:\"))\n",
    "if(num1>num4):\n",
    "    f1=num1\n",
    "else:\n",
    "    f1=num4\n",
    "if(num2>num3):\n",
    "    f2=num2\n",
    "else:\n",
    "    f2=num3\n",
    "if(f1>f2):\n",
    "    print(str(f1)+\"is greast\")\n",
    "else:\n",
    "    print(str(f2)+\"is greast\")\n",
    "    "
   ]
  },
  {
   "cell_type": "code",
   "execution_count": 1,
   "id": "fc1ed423",
   "metadata": {},
   "outputs": [
    {
     "name": "stdout",
     "output_type": "stream",
     "text": [
      "Enter first subject number:34\n",
      "Enter second subject number:53\n",
      "Enter second subject number:64\n",
      "you are passed\n"
     ]
    }
   ],
   "source": [
    "a=int(input(\"Enter first subject number:\"))\n",
    "b=int(input(\"Enter second subject number:\"))\n",
    "c=int(input(\"Enter second subject number:\"))\n",
    "if(a<33 or b<33 or c<33):\n",
    "    print(\"you are fail\")\n",
    "if((a+b+c)/3<40):\n",
    "    print(\"you are not passed \")\n",
    "else:\n",
    "    print(\"you are passed\")"
   ]
  },
  {
   "cell_type": "code",
   "execution_count": 2,
   "id": "4d0bc56a",
   "metadata": {},
   "outputs": [
    {
     "name": "stdout",
     "output_type": "stream",
     "text": [
      "Enter first subject number:34\n",
      "Enter second subject number:35\n",
      "Enter second subject number:34\n",
      "you are not passed \n"
     ]
    }
   ],
   "source": [
    "a=int(input(\"Enter first subject number:\"))\n",
    "b=int(input(\"Enter second subject number:\"))\n",
    "c=int(input(\"Enter second subject number:\"))\n",
    "if(a<33 or b<33 or c<33):\n",
    "    print(\"you are fail\")\n",
    "if((a+b+c)/3<40):\n",
    "    print(\"you are not passed \")\n",
    "else:\n",
    "    print(\"you are passed\")"
   ]
  },
  {
   "cell_type": "code",
   "execution_count": 1,
   "id": "b3c7a491",
   "metadata": {},
   "outputs": [
    {
     "name": "stdout",
     "output_type": "stream",
     "text": [
      "Enter your name\n",
      "Debashis\n",
      "your name is not present in the list\n"
     ]
    }
   ],
   "source": [
    "a=[\"harry\",\"subham\",\"manoj\",\"tanay\",\"deb\"]\n",
    "name=input(\"Enter your name\\n\")\n",
    "if name in a:\n",
    "    print(\"name is in list\")\n",
    "else:\n",
    "    print(\"your name is not present in the list\")"
   ]
  },
  {
   "cell_type": "code",
   "execution_count": 2,
   "id": "8a8f5d1e",
   "metadata": {},
   "outputs": [
    {
     "name": "stdout",
     "output_type": "stream",
     "text": [
      "enter your number:89\n",
      "Your grade isA\n"
     ]
    }
   ],
   "source": [
    "b=int(input(\"enter your number:\"))\n",
    "if b>=90:\n",
    "    grade=\"Ex\"\n",
    "elif b>=80:\n",
    "    grade=\"A\"\n",
    "elif b>=70:\n",
    "    grade=\"C\"\n",
    "elif b>=60:\n",
    "    grade=\"C\"\n",
    "elif b>=50:\n",
    "    grade=\"D\"\n",
    "else:\n",
    "    grade=\"F\"\n",
    "print(\"Your grade is\"+grade)"
   ]
  },
  {
   "cell_type": "code",
   "execution_count": 4,
   "id": "83be6785",
   "metadata": {},
   "outputs": [
    {
     "name": "stdout",
     "output_type": "stream",
     "text": [
      "not talking about deb\n"
     ]
    }
   ],
   "source": [
    "a=(\"Today we are talking about DeB\")\n",
    "b=(\"Deb\")\n",
    "if b.upper()in a:\n",
    "    print(\"talking about Deb\")\n",
    "elif b.lower()in a:\n",
    "    print(\"saying about deb\")\n",
    "else:\n",
    "    print(\"not talking about deb\")"
   ]
  },
  {
   "cell_type": "code",
   "execution_count": null,
   "id": "ee174966",
   "metadata": {},
   "outputs": [],
   "source": []
  }
 ],
 "metadata": {
  "kernelspec": {
   "display_name": "Python 3 (ipykernel)",
   "language": "python",
   "name": "python3"
  },
  "language_info": {
   "codemirror_mode": {
    "name": "ipython",
    "version": 3
   },
   "file_extension": ".py",
   "mimetype": "text/x-python",
   "name": "python",
   "nbconvert_exporter": "python",
   "pygments_lexer": "ipython3",
   "version": "3.10.6"
  }
 },
 "nbformat": 4,
 "nbformat_minor": 5
}
