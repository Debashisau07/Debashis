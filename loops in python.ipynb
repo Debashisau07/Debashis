{
 "cells": [
  {
   "cell_type": "code",
   "execution_count": 5,
   "id": "0c646c6b",
   "metadata": {},
   "outputs": [
    {
     "name": "stdout",
     "output_type": "stream",
     "text": [
      "1\n",
      "22\n",
      "333\n",
      "4444\n",
      "55555\n"
     ]
    }
   ],
   "source": [
    "\n",
    "for i in range(1,6):\n",
    "    print(i*str(i))\n",
    "    "
   ]
  },
  {
   "cell_type": "code",
   "execution_count": 2,
   "id": "3d04ac43",
   "metadata": {},
   "outputs": [
    {
     "name": "stdout",
     "output_type": "stream",
     "text": [
      "1\n",
      "12\n",
      "123\n",
      "1234\n",
      "12345\n"
     ]
    }
   ],
   "source": [
    "row=5\n",
    "for row in range(1,row+1):\n",
    "    for column in range(1,row+1):\n",
    "        print(column,end=\"\")\n",
    "    print(\"\")"
   ]
  },
  {
   "cell_type": "code",
   "execution_count": 3,
   "id": "fa3915b2",
   "metadata": {},
   "outputs": [
    {
     "name": "stdout",
     "output_type": "stream",
     "text": [
      "\n",
      "1\n",
      "22\n",
      "333\n",
      "4444\n",
      "55555\n"
     ]
    }
   ],
   "source": [
    "rows=6\n",
    "for num in range(rows):\n",
    "    for i in range(num):\n",
    "        print(num,end=\"\")\n",
    "    print(\"\")"
   ]
  },
  {
   "cell_type": "code",
   "execution_count": 11,
   "id": "1de4f4da",
   "metadata": {},
   "outputs": [
    {
     "name": "stdout",
     "output_type": "stream",
     "text": [
      "1\n",
      "2\n",
      "3\n",
      "4\n"
     ]
    }
   ],
   "source": [
    "for a in range(1,5):\n",
    "    print(a)"
   ]
  },
  {
   "cell_type": "code",
   "execution_count": 20,
   "id": "e2d78b41",
   "metadata": {},
   "outputs": [
    {
     "name": "stdout",
     "output_type": "stream",
     "text": [
      "1 11 21 31 41 5\n",
      "\n",
      "2 12 22 32 42 5\n",
      "\n",
      "3 13 23 33 43 5\n",
      "\n",
      "4 14 24 34 44 5\n",
      "\n",
      "5 15 25 35 45 5\n",
      "\n"
     ]
    }
   ],
   "source": [
    "for a in range(1,6):\n",
    "     for j in range(1,6):\n",
    "            print(a,j,end=\"\")\n",
    "     print(\"\\n\")   \n",
    "     \n",
    "     \n"
   ]
  },
  {
   "cell_type": "code",
   "execution_count": 28,
   "id": "85d6f2bb",
   "metadata": {},
   "outputs": [
    {
     "name": "stdout",
     "output_type": "stream",
     "text": [
      "1 1\t1 2\t1 3\t1 4\t1 5\t\t\n",
      "2 1\t2 2\t2 3\t2 4\t2 5\t\t\n",
      "3 1\t3 2\t3 3\t3 4\t3 5\t\t\n",
      "4 1\t4 2\t4 3\t4 4\t4 5\t\t\n",
      "5 1\t5 2\t5 3\t5 4\t5 5\t\t\n"
     ]
    }
   ],
   "source": [
    "for a in range(1,6):\n",
    "    for j in range(1,6):\n",
    "            print(a,j,end=\"\\t\")\n",
    "    print(\"\\t\")      "
   ]
  },
  {
   "cell_type": "code",
   "execution_count": 1,
   "id": "69592cde",
   "metadata": {},
   "outputs": [
    {
     "name": "stdout",
     "output_type": "stream",
     "text": [
      "\n",
      "*\n",
      "**\n",
      "***\n",
      "****\n",
      "*****\n"
     ]
    }
   ],
   "source": [
    "rows=6\n",
    "for num in range(rows):\n",
    "    for i in range(num):\n",
    "        print(\"*\",end=\"\")\n",
    "    print(\"\")"
   ]
  },
  {
   "cell_type": "code",
   "execution_count": null,
   "id": "2ab020f6",
   "metadata": {},
   "outputs": [],
   "source": []
  }
 ],
 "metadata": {
  "kernelspec": {
   "display_name": "Python 3 (ipykernel)",
   "language": "python",
   "name": "python3"
  },
  "language_info": {
   "codemirror_mode": {
    "name": "ipython",
    "version": 3
   },
   "file_extension": ".py",
   "mimetype": "text/x-python",
   "name": "python",
   "nbconvert_exporter": "python",
   "pygments_lexer": "ipython3",
   "version": "3.10.6"
  }
 },
 "nbformat": 4,
 "nbformat_minor": 5
}
